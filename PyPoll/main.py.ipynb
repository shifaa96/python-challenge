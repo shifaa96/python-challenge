{
 "cells": [
  {
   "cell_type": "code",
   "execution_count": 13,
   "metadata": {},
   "outputs": [
    {
     "name": "stdout",
     "output_type": "stream",
     "text": [
      "-------------------------\n",
      "Total Votes: 3521001\n",
      "-------------------------\n",
      "\n",
      "\n",
      "\n",
      "Election Results\n",
      "-------------------------\n",
      "Total Votes: 3521001\n",
      "-------------------------\n",
      "-------------------------\n",
      "Winner: O'Tooley\n",
      "-------------------------\n",
      "\n"
     ]
    }
   ],
   "source": [
    "import csv\n",
    "\n",
    "with open('election_data.csv', newline = '') as csvfile:\n",
    "    reader = csv.reader(csvfile, delimiter = ',' )\n",
    "    \n",
    "    \n",
    "    total_votes = 0\n",
    "    candidates = []\n",
    "    candidate_vote = {}\n",
    "    winner = []\n",
    "    winner_votes = 0\n",
    "    winning_candidate = \"\"\n",
    "    winning_count = 0\n",
    "\n",
    "    \n",
    "    header = next(reader)\n",
    "    \n",
    "    for line in reader:\n",
    "        total_votes = total_votes +1\n",
    "        candidate_name = line[2]\n",
    "        if candidate_name not in candidates:\n",
    "            candidates.append(candidate_name)\n",
    "            candidate_vote[candidate_name] = 0\n",
    "        candidate_vote[candidate_name] = candidate_vote[candidate_name] + 1\n",
    "        \n",
    "    for candidate in candidate_vote:\n",
    "        votes = candidate_vote.get(candidate)\n",
    "        vote_percent = float(votes) / float(total_votes) * 100\n",
    "\n",
    "    if (votes > winning_count):\n",
    "            winning_count = votes\n",
    "            winning_candidate = candidate\n",
    "    \n",
    "    \n",
    "    total_votes_summary = (\n",
    "        f\"-------------------------\\n\"\n",
    "        f\"Total Votes: {total_votes}\\n\"\n",
    "        f\"-------------------------\\n\")\n",
    "    print(total_votes_summary)\n",
    "\n",
    "    \n",
    "    winning_candidate_summary = (\n",
    "        f\"-------------------------\\n\"\n",
    "        f\"Winner: {winning_candidate}\\n\"\n",
    "        f\"-------------------------\\n\")\n",
    "    print(winning_candidate_summary)\n",
    "\n",
    "\n",
    "\n"
   ]
  },
  {
   "cell_type": "code",
   "execution_count": null,
   "metadata": {},
   "outputs": [],
   "source": []
  },
  {
   "cell_type": "code",
   "execution_count": null,
   "metadata": {},
   "outputs": [],
   "source": []
  },
  {
   "cell_type": "code",
   "execution_count": null,
   "metadata": {},
   "outputs": [],
   "source": []
  }
 ],
 "metadata": {
  "kernelspec": {
   "display_name": "Python 3",
   "language": "python",
   "name": "python3"
  },
  "language_info": {
   "codemirror_mode": {
    "name": "ipython",
    "version": 3
   },
   "file_extension": ".py",
   "mimetype": "text/x-python",
   "name": "python",
   "nbconvert_exporter": "python",
   "pygments_lexer": "ipython3",
   "version": "3.7.3"
  }
 },
 "nbformat": 4,
 "nbformat_minor": 2
}
