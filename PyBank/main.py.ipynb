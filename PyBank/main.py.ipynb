{
 "cells": [
  {
   "cell_type": "code",
   "execution_count": 43,
   "metadata": {},
   "outputs": [
    {
     "name": "stdout",
     "output_type": "stream",
     "text": [
      "Total Months =  85\n",
      "Total = 37514694\n",
      "Greatest Increase =  Feb-2012 $ 1926159\n",
      "Greatest Decrease = Sep-2013 $ -2196167\n"
     ]
    }
   ],
   "source": [
    "import csv\n",
    "\n",
    "with open('budget_data.csv', newline = '') as csvfile:\n",
    "    reader = csv.reader(csvfile, delimiter = ',' )\n",
    "\n",
    "    row1 = next(reader)\n",
    "    first_row = next(reader)\n",
    "    total_months = 0\n",
    "    month_of_change = []\n",
    "    total_net = 0\n",
    "    prev_change = 0.0\n",
    "    total_change = 0.0\n",
    "    net_change_list = []\n",
    "    greatest_increase = [\"\", 0]\n",
    "    greatest_decrease = [\"\", 9999999999999999999]\n",
    "    prev_net = int(first_row[1])\n",
    "\n",
    "    \n",
    "    \n",
    "    \n",
    "\n",
    "\n",
    "\n",
    "    for line in reader:\n",
    "       # print(','.join(line))\n",
    "        total_months = total_months +1\n",
    "        total_net = total_net + int(line[1])\n",
    "        net_change = int(line[1]) - prev_net\n",
    "        prev_net = int(line[1])\n",
    "    \n",
    "\n",
    "        net_change_list = net_change_list + [net_change]\n",
    "        #total_change = float(total_change) + (float(prev_change)-line[1])\n",
    "        #line[1] = float(prev_change)\n",
    "        \n",
    "        if net_change > greatest_increase[1]:\n",
    "            greatest_increase[0] = line[0]\n",
    "            greatest_increase[1] = net_change\n",
    "\n",
    "        # Calculate the greatest decrease\n",
    "        if net_change < greatest_decrease[1]:\n",
    "            greatest_decrease[0] = line[0]\n",
    "            greatest_decrease[1] = net_change\n",
    "\n",
    "    print(\"Total Months = \" , total_months) \n",
    "    print(\"Total =\" , total_net)\n",
    "    print(\"Greatest Increase = \" ,greatest_increase[0], \"$\",greatest_increase[1])\n",
    "    print(\"Greatest Decrease =\" ,greatest_decrease[0],\"$\",greatest_decrease[1])\n",
    "\n",
    " \n",
    "    \n",
    "        \n",
    "    "
   ]
  },
  {
   "cell_type": "code",
   "execution_count": null,
   "metadata": {},
   "outputs": [],
   "source": []
  },
  {
   "cell_type": "code",
   "execution_count": null,
   "metadata": {},
   "outputs": [],
   "source": []
  }
 ],
 "metadata": {
  "kernelspec": {
   "display_name": "Python 3",
   "language": "python",
   "name": "python3"
  },
  "language_info": {
   "codemirror_mode": {
    "name": "ipython",
    "version": 3
   },
   "file_extension": ".py",
   "mimetype": "text/x-python",
   "name": "python",
   "nbconvert_exporter": "python",
   "pygments_lexer": "ipython3",
   "version": "3.7.3"
  }
 },
 "nbformat": 4,
 "nbformat_minor": 2
}
